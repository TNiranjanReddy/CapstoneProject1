{
 "cells": [
  {
   "cell_type": "code",
   "execution_count": null,
   "metadata": {},
   "outputs": [],
   "source": [
    "import pandas as pd\n",
    "import numpy as np\n",
    "import matplotlib.pyplot as plt\n",
    "import seaborn as sns\n",
    "import plotly\n",
    "import plotly.offline as py\n",
    "py.init_notebook_mode(connected=True)\n",
    "from plotly.offline import init_notebook_mode, iplot\n",
    "init_notebook_mode(connected=True)\n",
    "import plotly.graph_objs as go\n",
    "from sklearn.preprocessing import LabelEncoder\n",
    "from sklearn.impute import SimpleImputer\n",
    "from plotly.subplots import make_subplots\n",
    "\n",
    "files_to_read =['application_test.csv','application_train.csv','bureau.csv','bureau_balance.csv','credit_card_balance.csv',\n",
    "               'installments_payments.csv','POS_CASH_Balance.csv','previous_application.csv','sample_submission.csv']\n",
    "\n",
    "#Loading files\n",
    "\"\"\"lists = []\n",
    "for files in files_to_read:\n",
    "    df = pd.read_csv(files)\n",
    "    lists.append(df)\n",
    "\n",
    "df = pd.concat(lists,axis=0,ignore_index=True)\"\"\"\n",
    "\n",
    "train_df = pd.read_csv('application_train.csv')\n",
    "test_df = pd.read_csv('application_test.csv')\n",
    "#bureau_df = pd.read_csv('bureau.csv')\n",
    "#pos_cash_balance_df = pd.read_csv('pos_cash_balance.csv')\n",
    "#previous_application_df = pd.read_csv('previous_application.csv')\n",
    "#credit_card_balance_df = pd.read_csv('credit_card_balance.csv')\n"
   ]
  },
  {
   "cell_type": "code",
   "execution_count": null,
   "metadata": {},
   "outputs": [],
   "source": [
    "#for memory efficient we are converting data types from int 64 to int 32 #this function will convert entire dataset\n",
    "def convert_dataframe_astype(dataset):\n",
    "    column_int=[]\n",
    "    column_float =[]\n",
    "    for lst in dataset.columns:\n",
    "        if dataset[lst].dtype ==int:\n",
    "            column_int.append(lst)\n",
    "        elif train_df[lst].dtype ==float:\n",
    "            column_float.append(lst)\n",
    "    dataset[column_int] = dataset[column_int].astype('int32')\n",
    "    dataset[column_float] = dataset[column_float].astype('float32')\n",
    "    return dataset"
   ]
  },
  {
   "cell_type": "code",
   "execution_count": null,
   "metadata": {
    "scrolled": true
   },
   "outputs": [],
   "source": [
    "train_df = convert_dataframe_astype(train_df)\n",
    "train_df = train_df.drop_duplicates(keep='first')\n",
    "print(train_df.shape)\n",
    "print(train_df.dtypes)\n"
   ]
  },
  {
   "cell_type": "code",
   "execution_count": null,
   "metadata": {},
   "outputs": [],
   "source": [
    "def check_missing_percentage(dataframe):\n",
    "    missing_values = dataframe.isnull().sum() / len(dataframe) *100\n",
    "    return missing_values.sort_values(ascending = False)\n",
    "    "
   ]
  },
  {
   "cell_type": "code",
   "execution_count": null,
   "metadata": {},
   "outputs": [],
   "source": [
    "#Let's see missing values\n",
    "missing_values = train_df.isnull().sum() / len(train_df) *100\n",
    "missing_values.sort_values(ascending = False).head(10)"
   ]
  },
  {
   "cell_type": "code",
   "execution_count": null,
   "metadata": {},
   "outputs": [],
   "source": [
    "#number  types of  categorial data \n",
    "train_df.select_dtypes('object').apply(pd.Series.nunique, axis = 0)"
   ]
  },
  {
   "cell_type": "code",
   "execution_count": null,
   "metadata": {},
   "outputs": [],
   "source": [
    "gender = train_df['CODE_GENDER']\n",
    "print(gender.value_counts())"
   ]
  },
  {
   "cell_type": "code",
   "execution_count": null,
   "metadata": {},
   "outputs": [],
   "source": [
    "train_df.drop(train_df[train_df['CODE_GENDER'] =='XNA'].index, inplace = True) \n",
    "gender = train_df['CODE_GENDER']\n",
    "print(gender.value_counts())"
   ]
  },
  {
   "cell_type": "code",
   "execution_count": null,
   "metadata": {},
   "outputs": [],
   "source": [
    "# Preprocessing for Filling missing values\n",
    "\n",
    "label = train_df.iloc[:,1].values\n",
    "column_obj =[]\n",
    "column_num =[]# column_num we are going to refer thorughindex of coulmn names\n",
    "for lst in train_df.columns:\n",
    "    if train_df[lst].dtype ==object:\n",
    "        index = train_df.columns.get_loc(lst)\n",
    "        column_obj.append(lst)\n",
    "    else:\n",
    "        index = train_df.columns.get_loc(lst)\n",
    "        if(index !=0 and index !=1):\n",
    "             column_num.append(index)\n",
    "#number of missing values in categoral data\n",
    "objtype_null =train_df[column_obj].isnull().sum()\n"
   ]
  },
  {
   "cell_type": "code",
   "execution_count": null,
   "metadata": {},
   "outputs": [],
   "source": [
    "#filling missing value for categoral data\n",
    "train_df[column_obj] = train_df[column_obj].fillna(train_df.mode().iloc[0],axis =0)\n",
    "\"\"\"categorical= train_df\n",
    "for lst in column_obj:\n",
    "    le = LabelEncoder()\n",
    "    categorical.loc[:,lst] = le.fit_transform(categorical.loc[:,lst])\"\"\""
   ]
  },
  {
   "cell_type": "code",
   "execution_count": null,
   "metadata": {},
   "outputs": [],
   "source": [
    "temp = train_df[\"TARGET\"].value_counts()\n",
    "df = [go.Bar(x=temp.index,\n",
    "            y=temp.values)]\n",
    "py.iplot(df)"
   ]
  },
  {
   "cell_type": "code",
   "execution_count": null,
   "metadata": {},
   "outputs": [],
   "source": [
    "def bar_cut(feature,dataset):\n",
    "    feature = feature\n",
    "    dataset['binned'] = pd.cut(dataset[feature], bins=bins, labels=labels)"
   ]
  },
  {
   "cell_type": "code",
   "execution_count": null,
   "metadata": {},
   "outputs": [],
   "source": [
    "def bar_chart(feature):\n",
    "    Loan_repayed = train_df[train_df['TARGET']==0][feature].value_counts()\n",
    "    Loan_deafulters = train_df[train_df['TARGET']==1][feature].value_counts()\n",
    "    df = pd.DataFrame([Loan_repayed,Loan_deafulters])\n",
    "    df.index = ['Loan_repayed','Loan_deafulters']\n",
    "    df.plot(kind ='bar',figsize=(16,10))\n"
   ]
  },
  {
   "cell_type": "code",
   "execution_count": null,
   "metadata": {},
   "outputs": [],
   "source": [
    "def box_plot(feature):\n",
    "    sns.boxplot(x= train_df[feature])\n",
    "    plt.show()"
   ]
  },
  {
   "cell_type": "code",
   "execution_count": null,
   "metadata": {},
   "outputs": [],
   "source": [
    "def heat_map(feature):\n",
    "    df = pd.DataFrame(feature)\n",
    "    plt.figure(figsize =(10,10))\n",
    "    sns.heatmap(df.corr(),annot=True,center=0,robust=True)\n",
    "    plt.show()   "
   ]
  },
  {
   "cell_type": "code",
   "execution_count": null,
   "metadata": {},
   "outputs": [],
   "source": [
    "#this function used to split the list by length 10 for num =1 it will return [1-10] and for num =2 it return [11-20]\n",
    "def get_list(dataset,column_list,num):\n",
    "    end  = num*10\n",
    "    start = end-10 \n",
    "    if(len(dataset.columns) > start):\n",
    "        listofcolumns = column_list[start:end]\n",
    "        listofcolumns.append(1)\n",
    "        return listofcolumns\n",
    "    else:\n",
    "        listofcolumns = column_list[start:]\n",
    "        listofcolumns.append(1)\n",
    "        return listofcolumns"
   ]
  },
  {
   "cell_type": "code",
   "execution_count": null,
   "metadata": {},
   "outputs": [],
   "source": [
    "#visualize amount of customers repayed loan and defaulters\n",
    "plt.figure(figsize = (6,6))\n",
    "plt.title('Application loans repayed')\n",
    "sns.countplot(x='TARGET',data = train_df)\n",
    "plt.show()"
   ]
  },
  {
   "cell_type": "code",
   "execution_count": null,
   "metadata": {},
   "outputs": [],
   "source": [
    "train_df.TARGET.corr(train_df.FLAG_DOCUMENT_20)"
   ]
  },
  {
   "cell_type": "code",
   "execution_count": null,
   "metadata": {},
   "outputs": [],
   "source": [
    "#use get_list for spliting list for better visuvalization\n",
    "heat_map(train_df.iloc[:,get_list(train_df,column_num,1)])"
   ]
  },
  {
   "cell_type": "code",
   "execution_count": null,
   "metadata": {},
   "outputs": [],
   "source": [
    "heat_map(train_df.iloc[:,get_list(train_df,column_num,2)])"
   ]
  },
  {
   "cell_type": "code",
   "execution_count": null,
   "metadata": {},
   "outputs": [],
   "source": [
    "heat_map(train_df.iloc[:,get_list(train_df,column_num,3)])"
   ]
  },
  {
   "cell_type": "code",
   "execution_count": null,
   "metadata": {},
   "outputs": [],
   "source": [
    "heat_map(train_df.iloc[:,get_list(train_df,column_num,4)])"
   ]
  },
  {
   "cell_type": "code",
   "execution_count": null,
   "metadata": {},
   "outputs": [],
   "source": [
    "heat_map(train_df.iloc[:,get_list(train_df,column_num,5)])"
   ]
  },
  {
   "cell_type": "code",
   "execution_count": null,
   "metadata": {},
   "outputs": [],
   "source": [
    "heat_map(train_df.iloc[:,get_list(train_df,column_num,6)])"
   ]
  },
  {
   "cell_type": "code",
   "execution_count": null,
   "metadata": {},
   "outputs": [],
   "source": [
    "heat_map(train_df.iloc[:,get_list(train_df,column_num,7)])"
   ]
  },
  {
   "cell_type": "code",
   "execution_count": null,
   "metadata": {},
   "outputs": [],
   "source": [
    "heat_map(train_df.iloc[:,get_list(train_df,column_num,8)])"
   ]
  },
  {
   "cell_type": "code",
   "execution_count": null,
   "metadata": {},
   "outputs": [],
   "source": [
    "heat_map(train_df.iloc[:,get_list(train_df,column_num,9)])"
   ]
  },
  {
   "cell_type": "code",
   "execution_count": null,
   "metadata": {
    "scrolled": true
   },
   "outputs": [],
   "source": [
    "heat_map(train_df.iloc[:,get_list(train_df,column_num,10)])"
   ]
  },
  {
   "cell_type": "code",
   "execution_count": null,
   "metadata": {},
   "outputs": [],
   "source": [
    "heat_map(train_df.iloc[:,get_list(train_df,column_num,11)])"
   ]
  },
  {
   "cell_type": "code",
   "execution_count": null,
   "metadata": {},
   "outputs": [],
   "source": [
    "#finding corealtion with target variable\n",
    "cor_target = train_df.corr()['TARGET'].sort_values()\n",
    "print('Positive Correlations\\n', cor_target.tail(10))\n",
    "print('Negative Correlations:\\n', cor_target.head(10))"
   ]
  },
  {
   "cell_type": "code",
   "execution_count": null,
   "metadata": {},
   "outputs": [],
   "source": [
    "def pie_chart(feature):\n",
    "    testOne= train_df[train_df.TARGET==1]\n",
    "    testZero= train_df[train_df.TARGET==0]\n",
    "    pieOne = testOne[feature].value_counts()\n",
    "    pieZero = testZero[feature].value_counts()\n",
    "    labelsOne = pieOne.index\n",
    "    valuesOne = pieOne.values\n",
    "    labelsZero = pieZero.index\n",
    "    valuesZero = pieZero.values\n",
    "    fig = make_subplots(rows=1, cols=2,specs=[[{'type':'domain'}, {'type':'domain'}]])\n",
    "    fig.add_trace(go.Pie(labels=labelsOne, values=valuesOne,\n",
    "                   textfont=dict(size=12)),1,1)\n",
    "\n",
    "    fig.add_trace(go.Pie(labels=labelsZero, values=valuesZero,\n",
    "                   textfont=dict(size=12)),1,2)\n",
    "    fig.update_layout(\n",
    "    title_text=feature,\n",
    "    annotations=[dict(text='Loan Deafulters', x=0.18, y=0.5, font_size=20, showarrow=False),\n",
    "                 dict(text='Loan Repaid', x=0.82, y=0.5, font_size=20, showarrow=False)])\n",
    "    fig.show()"
   ]
  },
  {
   "cell_type": "code",
   "execution_count": null,
   "metadata": {},
   "outputs": [],
   "source": [
    "def bar_chartAndLinechart(feature):\n",
    "        data = train_df[train_df.TARGET==1]\n",
    "        loanDefaulters = data[feature].value_counts()\n",
    "        totalApplicants = train_df[feature].value_counts()\n",
    "        loanIndex = loanDefaulters.index\n",
    "        loanValues = loanDefaulters.values\n",
    "        totalIndex = totalApplicants.index\n",
    "        totalValues = totalApplicants.values\n",
    "        percentOfValues = np.true_divide(loanValues, totalValues)\n",
    "\n",
    "        sns.set(style=\"white\", rc={\"lines.linewidth\": 3})\n",
    "        fig, ax1 = plt.subplots(figsize=(9,9))\n",
    "        plt.xticks(rotation=90)\n",
    "        plt.tight_layout()\n",
    "        ax2 = ax1.twinx()\n",
    "        sns.barplot(x=totalIndex,\n",
    "                    y=totalValues, \n",
    "                    color='#004488',\n",
    "                    ax=ax1)\n",
    "        sns.lineplot(x=totalIndex, \n",
    "                     y=np.round(percentOfValues,decimals = 3),\n",
    "                     color='r',\n",
    "                     marker=\"o\",label = 'Percent of Defaulters',\n",
    "                     ax=ax2)\n",
    "\n",
    "        plt.show()\n",
    "        sns.set()    "
   ]
  },
  {
   "cell_type": "code",
   "execution_count": null,
   "metadata": {},
   "outputs": [],
   "source": [
    "def ibar_plot(feature):\n",
    "    data = train_df[train_df.TARGET==1]\n",
    "    loanDefaulters = data[feature].value_counts()\n",
    "    totalApplicants = train_df[feature].value_counts()\n",
    "    loanIndex = loanDefaulters.index\n",
    "    loanValues = loanDefaulters.values\n",
    "    totalIndex = totalApplicants.index\n",
    "    totalValues = totalApplicants.values\n",
    "    index=[]\n",
    "    percentOfValues=[]\n",
    "    if len(totalIndex) == len(loanIndex):\n",
    "        percentOfValues = np.true_divide(loanValues, totalValues)\n",
    "    else:\n",
    "        for i,j in zip(loanIndex, loanValues):\n",
    "            for k,l in zip(totalIndex, totalValues):\n",
    "                if(i==k):\n",
    "                    percentOfValues.append(j/l)\n",
    "                    index.append(i)\n",
    "                else:\n",
    "                    if k not in loanIndex and k not in index:\n",
    "                        index.append(k)\n",
    "                        if len(percentOfValues) <= len(totalIndex):\n",
    "                            percentOfValues.append(0) \n",
    "    \n",
    "    \n",
    "    color1 = '#00bfff'\n",
    "    color2 = '#ff4000'\n",
    "\n",
    "    trace1 = go.Bar(\n",
    "        x = totalIndex,\n",
    "        y = totalValues,\n",
    "        marker=dict(\n",
    "            color=color1\n",
    "        )\n",
    "\n",
    "    )\n",
    "    if(len(index)>0):\n",
    "        value = index\n",
    "    else:\n",
    "        value = totalIndex\n",
    "        \n",
    "    trace2 = go.Scatter(\n",
    "        x=value,\n",
    "        y = np.round(percentOfValues,decimals = 3),\n",
    "        yaxis='y2'\n",
    "\n",
    "    )\n",
    "    data = [trace1, trace2]\n",
    "    layout = go.Layout(\n",
    "        title= (feature),\n",
    "        titlefont=dict(\n",
    "        family='Courier New, monospace',\n",
    "        size=15,\n",
    "        color='#7f7f7f'\n",
    "        ),\n",
    "        paper_bgcolor='rgba(0,0,0,0)',\n",
    "        plot_bgcolor='rgba(0,0,0,0)',\n",
    "\n",
    "        yaxis=dict(\n",
    "            titlefont=dict(\n",
    "                color=color1\n",
    "            ),\n",
    "            tickfont=dict(\n",
    "                color=color1\n",
    "            )\n",
    "        ),\n",
    "        yaxis2=dict(\n",
    "            overlaying='y',\n",
    "            side='right',\n",
    "            titlefont=dict(\n",
    "                color=color2\n",
    "            ),\n",
    "            tickfont=dict(\n",
    "                color=color2\n",
    "            )\n",
    "\n",
    "        )\n",
    "\n",
    "    )\n",
    "    fig = go.Figure(data=data, layout=layout)\n",
    "    plotly.offline.plot(fig)"
   ]
  },
  {
   "cell_type": "code",
   "execution_count": null,
   "metadata": {},
   "outputs": [],
   "source": [
    "ibar_plot('OCCUPATION_TYPE')"
   ]
  },
  {
   "cell_type": "markdown",
   "metadata": {},
   "source": [
    "#lets see what type of occuaption  loan applicant are doing"
   ]
  },
  {
   "cell_type": "code",
   "execution_count": null,
   "metadata": {},
   "outputs": [],
   "source": [
    "ibar_plot('REG_CITY_NOT_WORK_CITY')"
   ]
  },
  {
   "cell_type": "code",
   "execution_count": null,
   "metadata": {},
   "outputs": [],
   "source": [
    "bar_chartAndLinechart('REG_CITY_NOT_WORK_CITY')"
   ]
  },
  {
   "cell_type": "code",
   "execution_count": null,
   "metadata": {},
   "outputs": [],
   "source": [
    "ibar_plot('REGION_RATING_CLIENT_W_CITY')"
   ]
  },
  {
   "cell_type": "code",
   "execution_count": null,
   "metadata": {},
   "outputs": [],
   "source": [
    "ibar_plot('CODE_GENDER')"
   ]
  },
  {
   "cell_type": "markdown",
   "metadata": {},
   "source": [
    "# Male gender are the one who is not repaying most likely."
   ]
  },
  {
   "cell_type": "code",
   "execution_count": null,
   "metadata": {},
   "outputs": [],
   "source": [
    "bar_chartAndLinechart('FLAG_OWN_REALTY')"
   ]
  },
  {
   "cell_type": "markdown",
   "metadata": {},
   "source": [
    "Most  loan applicant are owning real estate as well as they are the one who are not repaying."
   ]
  },
  {
   "cell_type": "code",
   "execution_count": null,
   "metadata": {},
   "outputs": [],
   "source": [
    "bar_chartAndLinechart('FLAG_OWN_CAR')"
   ]
  },
  {
   "cell_type": "code",
   "execution_count": null,
   "metadata": {},
   "outputs": [],
   "source": [
    "#people who own a car are repaying loan."
   ]
  },
  {
   "cell_type": "code",
   "execution_count": null,
   "metadata": {},
   "outputs": [],
   "source": [
    "income = train_df['NAME_INCOME_TYPE']\n",
    "income.value_counts()"
   ]
  },
  {
   "cell_type": "code",
   "execution_count": null,
   "metadata": {},
   "outputs": [],
   "source": [
    "ibar_plot('NAME_INCOME_TYPE')"
   ]
  },
  {
   "cell_type": "markdown",
   "metadata": {},
   "source": [
    "As we can see more loan applicant are from working class as well as this working class customers are not repaying loans\n"
   ]
  },
  {
   "cell_type": "code",
   "execution_count": null,
   "metadata": {},
   "outputs": [],
   "source": [
    "ibar_plot('NAME_TYPE_SUITE')"
   ]
  },
  {
   "cell_type": "code",
   "execution_count": null,
   "metadata": {},
   "outputs": [],
   "source": [
    "pie_chart('NAME_EDUCATION_TYPE')"
   ]
  },
  {
   "cell_type": "code",
   "execution_count": null,
   "metadata": {},
   "outputs": [],
   "source": [
    "we can clear see that most loan applicant are secondary education"
   ]
  },
  {
   "cell_type": "code",
   "execution_count": null,
   "metadata": {},
   "outputs": [],
   "source": [
    "pie_chart('NAME_HOUSING_TYPE')"
   ]
  },
  {
   "cell_type": "code",
   "execution_count": null,
   "metadata": {},
   "outputs": [],
   "source": [
    "bar_chartAndLinechart('ORGANIZATION_TYPE')"
   ]
  },
  {
   "cell_type": "code",
   "execution_count": null,
   "metadata": {},
   "outputs": [],
   "source": [
    "bar_chartAndLinechart('NAME_CONTRACT_TYPE')"
   ]
  },
  {
   "cell_type": "markdown",
   "metadata": {},
   "source": [
    "Overall 90 % of loans are cash"
   ]
  },
  {
   "cell_type": "code",
   "execution_count": null,
   "metadata": {},
   "outputs": [],
   "source": [
    "def distribution_plot(feature,dataset):\n",
    "    plt.figure(figsize=(12,5))\n",
    "    plt.title(\"Distribution of \"+feature)\n",
    "    ax = sns.distplot(train_df[feature].dropna())"
   ]
  },
  {
   "cell_type": "code",
   "execution_count": null,
   "metadata": {},
   "outputs": [],
   "source": [
    "distribution_plot('AMT_CREDIT',train_df)"
   ]
  },
  {
   "cell_type": "code",
   "execution_count": null,
   "metadata": {},
   "outputs": [],
   "source": [
    "distribution_plot('AMT_GOODS_PRICE',train_df)"
   ]
  },
  {
   "cell_type": "code",
   "execution_count": null,
   "metadata": {},
   "outputs": [],
   "source": [
    "distribution_plot('AMT_ANNUITY',train_df)"
   ]
  },
  {
   "cell_type": "code",
   "execution_count": null,
   "metadata": {},
   "outputs": [],
   "source": [
    "distribution_plot('AMT_ANNUITY',train_df)"
   ]
  },
  {
   "cell_type": "code",
   "execution_count": null,
   "metadata": {},
   "outputs": [],
   "source": [
    "# lets find out is their any realtion between Amount and target variable\n",
    "amt = train_df['AMT_CREDIT']-train_df['AMT_ANNUITY']#-train_df['AMT_GOODS_PRICE']\n",
    "amt_one = train_df['AMT_CREDIT']-train_df['AMT_GOODS_PRICE']\n",
    "amt_zero = train_df['AMT_CREDIT']-train_df['AMT_INCOME_TOTAL']\n",
    "print(amt.corr(train_df['TARGET']))\n",
    "print(amt_one.corr(train_df['TARGET']))\n",
    "print(amt_zero.corr(train_df['TARGET']))\n",
    "train_df['AMT_INCOME_TOTAL'].corr(train_df['TARGET'])"
   ]
  },
  {
   "cell_type": "markdown",
   "metadata": {},
   "source": [
    "#it's look like their is no pattern between them we better regret this fields now "
   ]
  },
  {
   "cell_type": "code",
   "execution_count": null,
   "metadata": {},
   "outputs": [],
   "source": [
    "box_plot('DAYS_EMPLOYED')"
   ]
  },
  {
   "cell_type": "code",
   "execution_count": null,
   "metadata": {},
   "outputs": [],
   "source": [
    "distribution_plot('DAYS_EMPLOYED',train_df)"
   ]
  },
  {
   "cell_type": "code",
   "execution_count": null,
   "metadata": {},
   "outputs": [],
   "source": [
    "from scipy import stats \n",
    "# Interquartile range (IQR) \n",
    "IQR = stats.iqr(train_df['DAYS_EMPLOYED'], interpolation = 'midpoint')\n",
    "print(IQR)"
   ]
  },
  {
   "cell_type": "code",
   "execution_count": null,
   "metadata": {},
   "outputs": [],
   "source": [
    "anomalies = train_df[train_df['DAYS_EMPLOYED'] == 365243]\n",
    "non_anomalies = train_df[train_df['DAYS_EMPLOYED'] != 365243]\n",
    "print('The non-anomalies default on %0.2f%% of loans' % (100 * non_anomalies['TARGET'].mean()))\n",
    "print('The anomalies default on %0.2f%% of loans' % (100 * anomalies['TARGET'].mean()))"
   ]
  },
  {
   "cell_type": "code",
   "execution_count": null,
   "metadata": {},
   "outputs": [],
   "source": [
    "#as we can see outlier we need drop the column as it effects the results drop the data for trian and test dataframe\n",
    "train_df.drop(train_df[train_df['DAYS_EMPLOYED'] == 365243].index, inplace = True) \n",
    "test_df.drop(test_df[test_df['DAYS_EMPLOYED'] == 365243].index, inplace = True) "
   ]
  },
  {
   "cell_type": "code",
   "execution_count": null,
   "metadata": {},
   "outputs": [],
   "source": [
    "box_plot('DAYS_EMPLOYED')"
   ]
  },
  {
   "cell_type": "code",
   "execution_count": null,
   "metadata": {},
   "outputs": [],
   "source": [
    "train_df['DAYS_EMPLOYED'].corr(train_df['DAYS_BIRTH'])"
   ]
  },
  {
   "cell_type": "code",
   "execution_count": null,
   "metadata": {},
   "outputs": [],
   "source": [
    "print(train_df['DAYS_BIRTH'].corr(train_df['TARGET']))\n",
    "#we found good corelation let analyse at full extent\n",
    "\n",
    "age_data = train_df[['TARGET', 'DAYS_BIRTH']]\n",
    "age_data['YEARS'] = age_data['DAYS_BIRTH'] / 365*-1\n",
    "\n",
    "minv = min(age_data['YEARS'])\n",
    "maxv = max(age_data['YEARS'])\n",
    "\n",
    "# Bin the age data\n",
    "age_data['YEARS_BINNED'] = pd.cut(age_data['YEARS'], bins = np.linspace(int(minv), int(maxv), num =12))\n",
    "age_groups  = age_data.groupby('YEARS_BINNED').mean()"
   ]
  },
  {
   "cell_type": "code",
   "execution_count": null,
   "metadata": {},
   "outputs": [],
   "source": [
    "plt.bar(age_groups.index.astype(str), age_groups['TARGET'])\n",
    "plt.xticks(rotation = 50); plt.xlabel('Age Group (years)'); plt.ylabel('Failure to Repay (%)')\n",
    "plt.title('Failure to Repay by Age Group');"
   ]
  },
  {
   "cell_type": "markdown",
   "metadata": {},
   "source": [
    "Young people are mostly like not repaying money"
   ]
  },
  {
   "cell_type": "markdown",
   "metadata": {},
   "source": [
    "so far we can see that 'EXT_SOURCE_1', 'EXT_SOURCE_2', 'EXT_SOURCE_3', 'DAYS_BIRTH', 'TARGET' this columns are usefull"
   ]
  },
  {
   "cell_type": "code",
   "execution_count": null,
   "metadata": {},
   "outputs": [],
   "source": [
    "box_plot('EXT_SOURCE_1')"
   ]
  },
  {
   "cell_type": "code",
   "execution_count": null,
   "metadata": {},
   "outputs": [],
   "source": [
    "box_plot('EXT_SOURCE_2')"
   ]
  },
  {
   "cell_type": "code",
   "execution_count": null,
   "metadata": {},
   "outputs": [],
   "source": [
    "box_plot('EXT_SOURCE_3')"
   ]
  },
  {
   "cell_type": "code",
   "execution_count": null,
   "metadata": {},
   "outputs": [],
   "source": [
    "box_plot('DAYS_BIRTH')"
   ]
  },
  {
   "cell_type": "code",
   "execution_count": null,
   "metadata": {},
   "outputs": [],
   "source": [
    "train = train_df[['EXT_SOURCE_1', 'EXT_SOURCE_2', 'EXT_SOURCE_3', 'DAYS_BIRTH','DAYS_EMPLOYED']]\n",
    "test = test_df[['EXT_SOURCE_1', 'EXT_SOURCE_2', 'EXT_SOURCE_3', 'DAYS_BIRTH','DAYS_EMPLOYED']]"
   ]
  },
  {
   "cell_type": "code",
   "execution_count": null,
   "metadata": {},
   "outputs": [],
   "source": [
    "imputer = SimpleImputer(strategy = 'median')\n",
    "train = imputer.fit_transform(train)\n",
    "test = imputer.fit_transform(test)"
   ]
  }
 ],
 "metadata": {
  "kernelspec": {
   "display_name": "Python 3",
   "language": "python",
   "name": "python3"
  },
  "language_info": {
   "codemirror_mode": {
    "name": "ipython",
    "version": 3
   },
   "file_extension": ".py",
   "mimetype": "text/x-python",
   "name": "python",
   "nbconvert_exporter": "python",
   "pygments_lexer": "ipython3",
   "version": "3.7.4"
  }
 },
 "nbformat": 4,
 "nbformat_minor": 4
}
